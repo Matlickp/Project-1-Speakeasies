{
 "cells": [
  {
   "cell_type": "code",
   "execution_count": 16,
   "metadata": {},
   "outputs": [
    {
     "data": {
      "text/html": [
       "<div>\n",
       "<style scoped>\n",
       "    .dataframe tbody tr th:only-of-type {\n",
       "        vertical-align: middle;\n",
       "    }\n",
       "\n",
       "    .dataframe tbody tr th {\n",
       "        vertical-align: top;\n",
       "    }\n",
       "\n",
       "    .dataframe thead th {\n",
       "        text-align: right;\n",
       "    }\n",
       "</style>\n",
       "<table border=\"1\" class=\"dataframe\">\n",
       "  <thead>\n",
       "    <tr style=\"text-align: right;\">\n",
       "      <th></th>\n",
       "      <th>City</th>\n",
       "      <th>State</th>\n",
       "      <th>Name</th>\n",
       "      <th>Price</th>\n",
       "      <th>Rating</th>\n",
       "      <th>Reviews</th>\n",
       "      <th>Lat</th>\n",
       "      <th>Lng</th>\n",
       "      <th>Price(Scale)</th>\n",
       "    </tr>\n",
       "  </thead>\n",
       "  <tbody>\n",
       "    <tr>\n",
       "      <th>0</th>\n",
       "      <td>New York</td>\n",
       "      <td>New York</td>\n",
       "      <td>Angel's Share</td>\n",
       "      <td>$$</td>\n",
       "      <td>4.5</td>\n",
       "      <td>1953</td>\n",
       "      <td>40.729710</td>\n",
       "      <td>-73.989149</td>\n",
       "      <td>2</td>\n",
       "    </tr>\n",
       "    <tr>\n",
       "      <th>1</th>\n",
       "      <td>New York</td>\n",
       "      <td>New York</td>\n",
       "      <td>Raines Law Room</td>\n",
       "      <td>$$$</td>\n",
       "      <td>4.5</td>\n",
       "      <td>1323</td>\n",
       "      <td>40.738690</td>\n",
       "      <td>-73.994620</td>\n",
       "      <td>3</td>\n",
       "    </tr>\n",
       "    <tr>\n",
       "      <th>2</th>\n",
       "      <td>New York</td>\n",
       "      <td>New York</td>\n",
       "      <td>Please Don't Tell</td>\n",
       "      <td>$$$</td>\n",
       "      <td>4.0</td>\n",
       "      <td>1628</td>\n",
       "      <td>40.727098</td>\n",
       "      <td>-73.983763</td>\n",
       "      <td>3</td>\n",
       "    </tr>\n",
       "    <tr>\n",
       "      <th>3</th>\n",
       "      <td>New York</td>\n",
       "      <td>New York</td>\n",
       "      <td>Patent Pending</td>\n",
       "      <td>$$$</td>\n",
       "      <td>4.0</td>\n",
       "      <td>102</td>\n",
       "      <td>40.745260</td>\n",
       "      <td>-73.990320</td>\n",
       "      <td>3</td>\n",
       "    </tr>\n",
       "    <tr>\n",
       "      <th>4</th>\n",
       "      <td>New York</td>\n",
       "      <td>New York</td>\n",
       "      <td>Attaboy</td>\n",
       "      <td>$$$</td>\n",
       "      <td>4.0</td>\n",
       "      <td>457</td>\n",
       "      <td>40.718887</td>\n",
       "      <td>-73.991335</td>\n",
       "      <td>3</td>\n",
       "    </tr>\n",
       "  </tbody>\n",
       "</table>\n",
       "</div>"
      ],
      "text/plain": [
       "       City     State               Name Price  Rating  Reviews        Lat  \\\n",
       "0  New York  New York      Angel's Share    $$     4.5     1953  40.729710   \n",
       "1  New York  New York    Raines Law Room   $$$     4.5     1323  40.738690   \n",
       "2  New York  New York  Please Don't Tell   $$$     4.0     1628  40.727098   \n",
       "3  New York  New York     Patent Pending   $$$     4.0      102  40.745260   \n",
       "4  New York  New York            Attaboy   $$$     4.0      457  40.718887   \n",
       "\n",
       "         Lng  Price(Scale)  \n",
       "0 -73.989149             2  \n",
       "1 -73.994620             3  \n",
       "2 -73.983763             3  \n",
       "3 -73.990320             3  \n",
       "4 -73.991335             3  "
      ]
     },
     "execution_count": 16,
     "metadata": {},
     "output_type": "execute_result"
    }
   ],
   "source": [
    "import pandas as pd\n",
    "import numpy as np\n",
    "import gmaps\n",
    "\n",
    "\n",
    "file = \"speakeasies.csv\"\n",
    "df = pd.read_csv(file)\n",
    "df.head()\n"
   ]
  },
  {
   "cell_type": "code",
   "execution_count": 26,
   "metadata": {},
   "outputs": [
    {
     "name": "stdout",
     "output_type": "stream",
     "text": [
      "The Correlation Coefficient between Ratings and Price is -0.06435154253685545\n"
     ]
    }
   ],
   "source": [
    "print(f'The Correlation Coefficient between Ratings and Price is {df[\"Rating\"].corr(df[\"Price(Scale)\"])}')\n"
   ]
  }
 ],
 "metadata": {
  "kernelspec": {
   "display_name": "Python 3",
   "language": "python",
   "name": "python3"
  },
  "language_info": {
   "codemirror_mode": {
    "name": "ipython",
    "version": 3
   },
   "file_extension": ".py",
   "mimetype": "text/x-python",
   "name": "python",
   "nbconvert_exporter": "python",
   "pygments_lexer": "ipython3",
   "version": "3.7.0"
  }
 },
 "nbformat": 4,
 "nbformat_minor": 2
}
